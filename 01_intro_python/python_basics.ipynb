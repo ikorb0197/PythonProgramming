{
 "cells": [
  {
   "cell_type": "code",
   "execution_count": null,
   "id": "ca349513",
   "metadata": {},
   "outputs": [],
   "source": [
    "# This is a single-line comment\n",
    "\n",
    "\"\"\"\n",
    "08/20/2025\n",
    "Introduction to Python\n",
    "\"\"\"\n",
    "\n",
    "print(\"Comments are not executed\")"
   ]
  },
  {
   "cell_type": "code",
   "execution_count": 1,
   "id": "184518ee",
   "metadata": {},
   "outputs": [
    {
     "name": "stdout",
     "output_type": "stream",
     "text": [
      "Jack 25 6.1\n"
     ]
    }
   ],
   "source": [
    "# Variables\n",
    "name = \"Jack\"\n",
    "age = 25\n",
    "height = 6.1\n",
    "\n",
    "print(name, age, height)"
   ]
  },
  {
   "cell_type": "code",
   "execution_count": 2,
   "id": "51d614dd",
   "metadata": {},
   "outputs": [
    {
     "name": "stdout",
     "output_type": "stream",
     "text": [
      "Color: Black, power: 200, type: RV\n"
     ]
    }
   ],
   "source": [
    "# Declare Variables with Type Annotations\n",
    "color: str = \"Black\"\n",
    "power: int = 200\n",
    "type: str = \"RV\"\n",
    "\n",
    "print(f\"Color: {color}, power: {power}, type: {type}\")"
   ]
  },
  {
   "cell_type": "code",
   "execution_count": null,
   "id": "f2a2d481",
   "metadata": {},
   "outputs": [],
   "source": [
    "# Arithmetic\n",
    "a = 9\n",
    "b = 5\n",
    "\n",
    "print(a / b)\n",
    "print(a // b) # integer division\n",
    "print(a**b) #exponent\n",
    "print(a % b) # remainder\n"
   ]
  }
 ],
 "metadata": {
  "kernelspec": {
   "display_name": "Python 3",
   "language": "python",
   "name": "python3"
  },
  "language_info": {
   "codemirror_mode": {
    "name": "ipython",
    "version": 3
   },
   "file_extension": ".py",
   "mimetype": "text/x-python",
   "name": "python",
   "nbconvert_exporter": "python",
   "pygments_lexer": "ipython3",
   "version": "3.9.6"
  }
 },
 "nbformat": 4,
 "nbformat_minor": 5
}
