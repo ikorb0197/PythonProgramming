{
 "cells": [
  {
   "cell_type": "code",
   "execution_count": 1,
   "id": "f57a20a9",
   "metadata": {},
   "outputs": [
    {
     "name": "stdout",
     "output_type": "stream",
     "text": [
      "14\n"
     ]
    }
   ],
   "source": [
    "# len function\n",
    "# Returns the number of elements in the collection\n",
    "text = \"Hello, Python!\"\n",
    "length = len(text)\n",
    "print(length)"
   ]
  },
  {
   "cell_type": "code",
   "execution_count": 3,
   "id": "949a243c",
   "metadata": {},
   "outputs": [
    {
     "name": "stdout",
     "output_type": "stream",
     "text": [
      "K\n",
      "n\n",
      "n\n",
      "t\n",
      "K\n"
     ]
    }
   ],
   "source": [
    "# Access the elements\n",
    "name = \"Konstantin\"\n",
    "print(name[0])\n",
    "print(name[2])\n",
    "\n",
    "# use negative indices\n",
    "print(name[-1]) # last character\n",
    "\n",
    "print(name[-3])\n",
    "print(name[-len(name)])"
   ]
  },
  {
   "cell_type": "code",
   "execution_count": 9,
   "id": "6c8ceb30",
   "metadata": {},
   "outputs": [
    {
     "name": "stdout",
     "output_type": "stream",
     "text": [
      "Pyt\n",
      "tho\n",
      "ython\n",
      "thon\n",
      "Pyt\n",
      "hon\n",
      "Pto\n",
      "nohtyP\n",
      "nhy\n"
     ]
    }
   ],
   "source": [
    "# String slicing\n",
    "language = \"Python\"\n",
    "print(language[0:3]) # print first 3 characters\n",
    "print(language[2:5])\n",
    "\n",
    "print(language[1:len(language)])\n",
    "\n",
    "# omit the first and the last indices\n",
    "print(language[2:])\n",
    "print(language[:3])\n",
    "\n",
    "# use negative indices for slicing\n",
    "print(language[-3:])\n",
    "\n",
    "# set the step of slicing\n",
    "print(language[::2])\n",
    "\n",
    "# reverse a string\n",
    "print(language[::-1])\n",
    "\n",
    "print(language[::-2])"
   ]
  },
  {
   "cell_type": "code",
   "execution_count": 16,
   "id": "c7e982e4",
   "metadata": {},
   "outputs": [
    {
     "name": "stdout",
     "output_type": "stream",
     "text": [
      "56789\n",
      "12389\n"
     ]
    }
   ],
   "source": [
    "text = \"123456789\"\n",
    "# Print the second half of the string\n",
    "print(text[len(text) // 2:])\n",
    "\n",
    "# Print first 3 characters and last 2 characters\n",
    "print(text[:3] + text[-2:])"
   ]
  },
  {
   "cell_type": "code",
   "execution_count": 21,
   "id": "ef8be31c",
   "metadata": {},
   "outputs": [
    {
     "name": "stdout",
     "output_type": "stream",
     "text": [
      "['toyota', ' bmw', ' audi', ' volkswagen', ' nissan']\n",
      "Toyota\n",
      "Bmw\n",
      "Audi\n",
      "Volkswagen\n",
      "Nissan\n"
     ]
    }
   ],
   "source": [
    "# split the string\n",
    "makes = \"toyota, bmw, audi, volkswagen, nissan\"\n",
    "car_makes = makes.split(\",\") # car_makes is a list (array) of strings\n",
    "\n",
    "print(car_makes)\n",
    "\n",
    "# iterate through the list\n",
    "for make in car_makes:\n",
    "    make = make.lstrip()\n",
    "    if make == [\"bmw\", \"audi\"]:\n",
    "        print(make.upper())\n",
    "    else:\n",
    "        print(make.title())"
   ]
  },
  {
   "cell_type": "code",
   "execution_count": 5,
   "id": "0978f890",
   "metadata": {},
   "outputs": [
    {
     "name": "stdout",
     "output_type": "stream",
     "text": [
      "1\n",
      "6\n",
      "11\n",
      "16\n",
      "21\n",
      "26\n",
      "31\n",
      "36\n",
      "41\n",
      "46\n",
      "51\n",
      "56\n",
      "61\n",
      "66\n",
      "71\n",
      "76\n",
      "81\n",
      "86\n",
      "91\n",
      "96\n",
      "1\n",
      "4\n",
      "9\n",
      "16\n",
      "25\n",
      "36\n",
      "49\n",
      "64\n",
      "81\n",
      "100\n",
      "121\n",
      "144\n",
      "169\n",
      "196\n",
      "225\n",
      "256\n",
      "289\n",
      "324\n",
      "361\n",
      "400\n",
      "441\n",
      "484\n",
      "529\n",
      "576\n",
      "625\n",
      "676\n",
      "729\n",
      "784\n",
      "841\n",
      "900\n",
      "1\n",
      "4\n",
      "9\n",
      "16\n",
      "25\n"
     ]
    }
   ],
   "source": [
    "# for loop\n",
    "# range BIF\n",
    "for i in range(1, 100, 5):\n",
    "    print(i)\n",
    "\n",
    "# Print the squares of numbers [1:30]\n",
    "for i in range(1, 31):\n",
    "    print(i**2)\n",
    "\n",
    "# Print the squares [1:30] of numbers\n",
    "for i in range(1, 6):\n",
    "    print(i**2)"
   ]
  },
  {
   "cell_type": "code",
   "execution_count": null,
   "id": "4dca5017",
   "metadata": {},
   "outputs": [],
   "source": []
  }
 ],
 "metadata": {
  "kernelspec": {
   "display_name": "Python 3",
   "language": "python",
   "name": "python3"
  },
  "language_info": {
   "codemirror_mode": {
    "name": "ipython",
    "version": 3
   },
   "file_extension": ".py",
   "mimetype": "text/x-python",
   "name": "python",
   "nbconvert_exporter": "python",
   "pygments_lexer": "ipython3",
   "version": "3.9.6"
  }
 },
 "nbformat": 4,
 "nbformat_minor": 5
}
