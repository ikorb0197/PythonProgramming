{
 "cells": [
  {
   "cell_type": "code",
   "execution_count": 1,
   "id": "58f69cb4",
   "metadata": {},
   "outputs": [
    {
     "name": "stdout",
     "output_type": "stream",
     "text": [
      "{'name': 'Jack', 'age': 25, 'city': 'Lakeland'}\n",
      "{'name': 'Anna', 'age': 19, 'city': 'Orlando'}\n",
      "{}\n",
      "Jack\n"
     ]
    }
   ],
   "source": [
    "# Create a dictionary\n",
    "\n",
    "my_dict = {\"name\": \"Jack\", \"age\": 25, \"city\": \"Lakeland\"}\n",
    "\n",
    "my_dict2 = dict(name = \"Anna\", age = 19, city = \"Orlando\")\n",
    "\n",
    "empty_dict = {}\n",
    "\n",
    "print(my_dict)\n",
    "print(my_dict2)\n",
    "print(empty_dict)\n",
    "\n",
    "print(my_dict[\"name\"])"
   ]
  },
  {
   "cell_type": "code",
   "execution_count": 1,
   "id": "e2eb0e2c",
   "metadata": {},
   "outputs": [
    {
     "name": "stdout",
     "output_type": "stream",
     "text": [
      "{'name': 'Jack', 'age': 20, 'city': 'Lakeland', 'email': 'jack@floridapoly.edu'}\n"
     ]
    }
   ],
   "source": [
    "my_dict = {\"name\": \"Jack\", \"age\": 25, \"city\": \"Lakeland\"}\n",
    "\n",
    "# modify the value\n",
    "my_dict[\"age\"] = 20\n",
    "\n",
    "# add a new key value pair\n",
    "my_dict[\"email\"] = \"jack@floridapoly.edu\"\n",
    "\n",
    "print(my_dict)"
   ]
  },
  {
   "cell_type": "code",
   "execution_count": 4,
   "id": "aa9ad1dd",
   "metadata": {},
   "outputs": [
    {
     "data": {
      "text/plain": [
       "'not found'"
      ]
     },
     "execution_count": 4,
     "metadata": {},
     "output_type": "execute_result"
    }
   ],
   "source": [
    "# print(my_dict[\"home\"]) # genereate an error\n",
    "\n",
    "# get method\n",
    "my_dict.get(\"home\", \"not found\") # return \"not found\" if key doesn't exist"
   ]
  },
  {
   "cell_type": "code",
   "execution_count": 7,
   "id": "01c8c7c2",
   "metadata": {},
   "outputs": [
    {
     "name": "stdout",
     "output_type": "stream",
     "text": [
      "dict_keys(['name', 'age', 'city', 'email'])\n",
      "dict_values(['Jack', 20, 'Lakeland', 'jack@floridapoly.edu'])\n",
      "dict_items([('name', 'Jack'), ('age', 20), ('city', 'Lakeland'), ('email', 'jack@floridapoly.edu')])\n"
     ]
    }
   ],
   "source": [
    "# keys - return all the keys\n",
    "print(my_dict.keys())\n",
    "\n",
    "# values - return all the values\n",
    "print(my_dict.values())\n",
    "\n",
    "# items - return all key-value pairs\n",
    "print(my_dict.items())"
   ]
  },
  {
   "cell_type": "code",
   "execution_count": 9,
   "id": "4db0bedf",
   "metadata": {},
   "outputs": [
    {
     "name": "stdout",
     "output_type": "stream",
     "text": [
      "name Anna\n",
      "age 19\n",
      "city Orlando\n",
      "name -> Anna\n",
      "age -> 19\n",
      "city -> Orlando\n"
     ]
    }
   ],
   "source": [
    "# Iteration over Dictionaries\n",
    "info = dict(name = \"Anna\", age = 19, city = \"Orlando\")\n",
    "\n",
    "for key in info:\n",
    "    print(key, info[key])\n",
    "\n",
    "for key, value in info.items():\n",
    "    print(f\"{key} -> {value}\")"
   ]
  },
  {
   "cell_type": "code",
   "execution_count": 10,
   "id": "72e7d175",
   "metadata": {},
   "outputs": [
    {
     "name": "stdout",
     "output_type": "stream",
     "text": [
      "{'banana': 4, 'apple': 1, 'orange': 2}\n"
     ]
    }
   ],
   "source": [
    "# Practice\n",
    "# Count the frequency of each word\n",
    "msg = \"banana apple orange orange banana banana banana\"\n",
    "\n",
    "words = msg.split(\" \")\n",
    "\n",
    "# create an empty dictionary\n",
    "word_count = {}\n",
    "for word in words:\n",
    "    word_count[word] = word_count.get(word, 0) + 1\n",
    "\n",
    "print(word_count)"
   ]
  },
  {
   "cell_type": "markdown",
   "id": "5b235e46",
   "metadata": {},
   "source": [
    "# SETS"
   ]
  },
  {
   "cell_type": "code",
   "execution_count": 14,
   "id": "344efb1b",
   "metadata": {},
   "outputs": [
    {
     "name": "stdout",
     "output_type": "stream",
     "text": [
      "{'blue', 'red', 'green'}\n",
      "{1, 2, 3, 4}\n",
      "set()\n"
     ]
    }
   ],
   "source": [
    "# Create a set - collection of unique values\n",
    "\n",
    "colors = {\"blue\", \"red\", \"green\"}\n",
    "\n",
    "l = [1, 2, 3, 4, 3]\n",
    "\n",
    "my_set = set(l)\n",
    "\n",
    "# empty set\n",
    "empty_set = set()\n",
    "\n",
    "print(colors)\n",
    "print(my_set)\n",
    "print(empty_set)"
   ]
  },
  {
   "cell_type": "code",
   "execution_count": 19,
   "id": "4c6b4faa",
   "metadata": {},
   "outputs": [
    {
     "name": "stdout",
     "output_type": "stream",
     "text": [
      "{1, 2, 3, 4, 5, 6, 7, 8}\n",
      "{4, 5}\n",
      "{1, 2, 3}\n",
      "{8, 6, 7}\n",
      "{1, 2, 3, 6, 7, 8}\n"
     ]
    }
   ],
   "source": [
    "set1 = {1, 2, 3, 4, 5}\n",
    "set2 = {4, 5, 6, 7, 8}\n",
    "\n",
    "# Combine elements of two sets (Union)\n",
    "print(set1 | set2)\n",
    "\n",
    "# Intersection of two sets\n",
    "print(set1 & set2)\n",
    "\n",
    "# Difference of two sets\n",
    "print(set1 - set2)\n",
    "print(set2 - set1)\n",
    "\n",
    "# Symmetric difference\n",
    "print(set1 ^ set2)"
   ]
  },
  {
   "cell_type": "code",
   "execution_count": 21,
   "id": "1790f66f",
   "metadata": {},
   "outputs": [
    {
     "name": "stdout",
     "output_type": "stream",
     "text": [
      "{'purple', 'red', 'green'}\n"
     ]
    }
   ],
   "source": [
    "# add and remove elements to the set\n",
    "colors = {\"blue\", \"red\", \"green\"}\n",
    "\n",
    "colors.add(\"purple\")\n",
    "colors.remove(\"blue\") # generates an error if the value doesn't exist\n",
    "colors.discard(\"blue\") # no error if not found\n",
    "\n",
    "print(colors)"
   ]
  },
  {
   "cell_type": "code",
   "execution_count": null,
   "id": "acd878c5",
   "metadata": {},
   "outputs": [],
   "source": []
  }
 ],
 "metadata": {
  "kernelspec": {
   "display_name": "Python 3",
   "language": "python",
   "name": "python3"
  },
  "language_info": {
   "codemirror_mode": {
    "name": "ipython",
    "version": 3
   },
   "file_extension": ".py",
   "mimetype": "text/x-python",
   "name": "python",
   "nbconvert_exporter": "python",
   "pygments_lexer": "ipython3",
   "version": "3.9.6"
  }
 },
 "nbformat": 4,
 "nbformat_minor": 5
}
