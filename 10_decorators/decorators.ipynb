{
 "cells": [
  {
   "cell_type": "code",
   "execution_count": null,
   "id": "244a1cfd",
   "metadata": {},
   "outputs": [
    {
     "name": "stdout",
     "output_type": "stream",
     "text": [
      "f took: 0.30554795265197754\n"
     ]
    }
   ],
   "source": [
    "# Measure the execution time of a function\n",
    "\n",
    "# Import time functions (specific import)\n",
    "from time import sleep, time\n",
    "\n",
    "def f():\n",
    "    sleep(0.3) # stops the execution on the given number of seconds\n",
    "\n",
    "def g():\n",
    "    sleep(0.5) # stops the execution on the given number of seconds\n",
    "\n",
    "t = time() # returns the number of seconds from 01/01/1970\n",
    "f()\n",
    "print(\"f took:\", time() - t)"
   ]
  },
  {
   "cell_type": "code",
   "execution_count": 5,
   "id": "9ffb72c6",
   "metadata": {},
   "outputs": [
    {
     "name": "stdout",
     "output_type": "stream",
     "text": [
      "f took: 0.3050549030303955\n",
      "g took: 0.5027918815612793\n"
     ]
    }
   ],
   "source": [
    "# Let's create a function that takes another function\n",
    "def measure(func):\n",
    "    t = time() # starting time\n",
    "    func() # function call\n",
    "    print(func.__name__, \"took:\", time() - t)\n",
    "\n",
    "measure(f)\n",
    "measure(g)"
   ]
  },
  {
   "cell_type": "code",
   "execution_count": 9,
   "id": "0ba518cb",
   "metadata": {},
   "outputs": [
    {
     "name": "stdout",
     "output_type": "stream",
     "text": [
      "f2 took: 0.10502815246582031\n",
      "f2 took: 0.9050407409667969\n",
      "f2 took: 1.0012049674987793\n"
     ]
    }
   ],
   "source": [
    "# Take a function with arguments\n",
    "\n",
    "def f2(sleep_time = 0.1):\n",
    "    sleep(sleep_time) # stops the execution on the given number of seconds\n",
    "\n",
    "def measure(func, *args, **kwargs):\n",
    "    t = time() # starting time\n",
    "    func(*args, **kwargs) # function call\n",
    "    print(func.__name__, \"took:\", time() - t)\n",
    "\n",
    "measure(f2)\n",
    "measure(f2, 0.9)\n",
    "measure(f2, sleep_time = 1)"
   ]
  },
  {
   "cell_type": "code",
   "execution_count": 11,
   "id": "5381bd22",
   "metadata": {},
   "outputs": [
    {
     "name": "stdout",
     "output_type": "stream",
     "text": [
      "f2 took: 0.5050489902496338\n"
     ]
    }
   ],
   "source": [
    "# measure is a decorator\n",
    "def measure(func):\n",
    "    def wrapper(*args, **kwargs):\n",
    "        t = time() # starting time\n",
    "        func(*args, **kwargs) # function call\n",
    "        print(func.__name__, \"took:\", time() - t)\n",
    "    return wrapper\n",
    "\n",
    "@measure\n",
    "def f2(sleep_time = 0.1):\n",
    "    sleep(sleep_time) # stops the execution on the given number of seconds\n",
    "\n",
    "f2(0.5)"
   ]
  },
  {
   "cell_type": "code",
   "execution_count": null,
   "id": "db2e3590",
   "metadata": {},
   "outputs": [],
   "source": []
  }
 ],
 "metadata": {
  "kernelspec": {
   "display_name": "Python 3",
   "language": "python",
   "name": "python3"
  },
  "language_info": {
   "codemirror_mode": {
    "name": "ipython",
    "version": 3
   },
   "file_extension": ".py",
   "mimetype": "text/x-python",
   "name": "python",
   "nbconvert_exporter": "python",
   "pygments_lexer": "ipython3",
   "version": "3.9.6"
  }
 },
 "nbformat": 4,
 "nbformat_minor": 5
}
