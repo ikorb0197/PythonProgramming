{
 "cells": [
  {
   "cell_type": "code",
   "execution_count": 4,
   "id": "813a1f03",
   "metadata": {},
   "outputs": [
    {
     "name": "stdout",
     "output_type": "stream",
     "text": [
      "Woof! Woof!\n"
     ]
    }
   ],
   "source": [
    "# Create a Dog class\n",
    "\n",
    "class Dog:\n",
    "    def bark(self): # instance method\n",
    "        return \"Woof! Woof!\"\n",
    "\n",
    "# Create an object of Dog class\n",
    "my_dog = Dog()\n",
    "print(my_dog.bark()) # Dog.bark(my_dog)"
   ]
  },
  {
   "cell_type": "code",
   "execution_count": 8,
   "id": "7e5dac4a",
   "metadata": {},
   "outputs": [
    {
     "name": "stdout",
     "output_type": "stream",
     "text": [
      "25\n"
     ]
    }
   ],
   "source": [
    "class Square:\n",
    "    side = 9\n",
    "    # Create an instance method area\n",
    "    def area(self):\n",
    "        return self.side * self.side\n",
    "\n",
    "# Create an object of Square\n",
    "# Print the area\n",
    "s1 = Square()\n",
    "s1.side = 5\n",
    "print(s1.area())"
   ]
  },
  {
   "cell_type": "code",
   "execution_count": 10,
   "id": "648eec96",
   "metadata": {},
   "outputs": [
    {
     "name": "stdout",
     "output_type": "stream",
     "text": [
      "Leopold\n"
     ]
    }
   ],
   "source": [
    "# __init__ special method which is called when an object is created\n",
    "class Cat:\n",
    "    def __init__(self, name):\n",
    "        self.name = name\n",
    "\n",
    "cat = Cat(\"Leopold\")\n",
    "\n",
    "print(cat.name)"
   ]
  },
  {
   "cell_type": "code",
   "execution_count": null,
   "id": "5bf690a5",
   "metadata": {},
   "outputs": [
    {
     "name": "stdout",
     "output_type": "stream",
     "text": [
      "<bound method Car.drive of <__main__.Car object at 0x108029d30>>\n"
     ]
    }
   ],
   "source": [
    "# Practice (Car class)\n",
    "class Car:\n",
    "    def __init__(self, model):\n",
    "        self.model = model\n",
    "    def drive(self):\n",
    "        return f\"{self.model} is driving!\"\n",
    "\n",
    "car = Car(\"Prius\")\n",
    "print(f\"{car.drive}\")"
   ]
  },
  {
   "cell_type": "code",
   "execution_count": null,
   "id": "72cf61ea",
   "metadata": {},
   "outputs": [],
   "source": []
  }
 ],
 "metadata": {
  "kernelspec": {
   "display_name": "Python 3",
   "language": "python",
   "name": "python3"
  },
  "language_info": {
   "codemirror_mode": {
    "name": "ipython",
    "version": 3
   },
   "file_extension": ".py",
   "mimetype": "text/x-python",
   "name": "python",
   "nbconvert_exporter": "python",
   "pygments_lexer": "ipython3",
   "version": "3.9.6"
  }
 },
 "nbformat": 4,
 "nbformat_minor": 5
}
