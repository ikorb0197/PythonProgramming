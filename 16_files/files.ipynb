{
 "cells": [
  {
   "cell_type": "code",
   "execution_count": 21,
   "id": "474c22f7",
   "metadata": {},
   "outputs": [
    {
     "name": "stdout",
     "output_type": "stream",
     "text": [
      "1.txt\n",
      "/Users/ikorb/school/COP2080/PythonProgramming/16_files/1.txt\n",
      "/Users/ikorb/school/COP2080/PythonProgramming/16_files\n",
      "/Users/ikorb/school/COP2080/PythonProgramming\n",
      ".txt\n",
      "Exists: True\n",
      "Is file: True\n",
      "Is directory: False\n",
      "/Users/ikorb/school/COP2080/PythonProgramming/16_files/dir1\n",
      ".DS_Store\n",
      "5.txt\n",
      "4.txt\n",
      "files.ipynb\n",
      "3.txt\n",
      "2.txt\n",
      "1.txt\n",
      "file_names.txt\n"
     ]
    }
   ],
   "source": [
    "from pathlib import Path\n",
    "\n",
    "# Create text files in the current directory\n",
    "# 1.txt, 2.txt, 3.txt, 4.txt, 5.txt\n",
    "\n",
    "for i in range(1,6):\n",
    "    with open(f\"{i}.txt\", 'w') as file:\n",
    "        file.write(f\"Writing into {file.name} file\")\n",
    "\n",
    "# Working with file_paths\n",
    "p = Path(\"1.txt\")\n",
    "\n",
    "# Path attributes and methods\n",
    "print(p.name) # file name\n",
    "print(p.absolute()) # absolute path\n",
    "print(p.absolute().parent) # parent of a file\n",
    "print(p.absolute().parent.parent) # grandparent of a file\n",
    "print(p.suffix) # file extension\n",
    "\n",
    "# Methods\n",
    "print(f\"Exists: {p.exists()}\")\n",
    "print(f\"Is file: {p.is_file()}\")\n",
    "print(f\"Is directory: {p.is_dir()}\")\n",
    "\n",
    "# Create a directory\n",
    "dir_name = \"dir1\"\n",
    "new_path = Path(p.absolute().parent / dir_name)\n",
    "new_path2 = Path(p.absolute().parent / \"dir2\")\n",
    "new_path3 = Path(p.absolute().parent / \"dir3\")\n",
    "print(new_path.absolute())\n",
    "\n",
    "if not new_path.exists():\n",
    "    new_path.mkdir()\n",
    "if not new_path2.exists():\n",
    "    new_path2.mkdir()\n",
    "if not new_path3.exists():\n",
    "    new_path3.mkdir()\n",
    "\n",
    "# Create a list of files in the current directory\n",
    "for file in p.parent.iterdir():\n",
    "    if file.is_file():\n",
    "        print(file.name)\n",
    "\n",
    "with open(\"file_names.txt\", 'w') as file_names:\n",
    "    for file in p.parent.iterdir():\n",
    "        if file.is_file():\n",
    "            file_names.write(file.name + \"\\n\")"
   ]
  },
  {
   "cell_type": "code",
   "execution_count": null,
   "id": "f55b9d72",
   "metadata": {},
   "outputs": [],
   "source": []
  }
 ],
 "metadata": {
  "kernelspec": {
   "display_name": "Python 3",
   "language": "python",
   "name": "python3"
  },
  "language_info": {
   "codemirror_mode": {
    "name": "ipython",
    "version": 3
   },
   "file_extension": ".py",
   "mimetype": "text/x-python",
   "name": "python",
   "nbconvert_exporter": "python",
   "pygments_lexer": "ipython3",
   "version": "3.9.6"
  }
 },
 "nbformat": 4,
 "nbformat_minor": 5
}
