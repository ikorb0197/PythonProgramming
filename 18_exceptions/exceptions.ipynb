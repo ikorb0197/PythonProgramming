{
 "cells": [
  {
   "cell_type": "code",
   "execution_count": null,
   "id": "355c36e9",
   "metadata": {},
   "outputs": [
    {
     "ename": "TypeError",
     "evalue": "unsupported operand type(s) for +: 'int' and 'str'",
     "output_type": "error",
     "traceback": [
      "\u001b[0;31m---------------------------------------------------------------------------\u001b[0m",
      "\u001b[0;31mTypeError\u001b[0m                                 Traceback (most recent call last)",
      "Cell \u001b[0;32mIn[1], line 3\u001b[0m\n\u001b[1;32m      1\u001b[0m a \u001b[38;5;241m=\u001b[39m \u001b[38;5;241m1\u001b[39m\n\u001b[0;32m----> 3\u001b[0m \u001b[43ma\u001b[49m\u001b[43m \u001b[49m\u001b[38;5;241;43m+\u001b[39;49m\u001b[43m \u001b[49m\u001b[38;5;124;43m\"\u001b[39;49m\u001b[38;5;124;43ma\u001b[39;49m\u001b[38;5;124;43m\"\u001b[39;49m\n\u001b[1;32m      5\u001b[0m \u001b[38;5;28mprint\u001b[39m(\u001b[38;5;124m\"\u001b[39m\u001b[38;5;124mVery important code\u001b[39m\u001b[38;5;124m\"\u001b[39m)\n",
      "\u001b[0;31mTypeError\u001b[0m: unsupported operand type(s) for +: 'int' and 'str'"
     ]
    }
   ],
   "source": [
    "a = 1\n",
    "a + \"a\"\n",
    "\n",
    "print(\"Very important code\")"
   ]
  },
  {
   "cell_type": "code",
   "execution_count": null,
   "id": "f3756870",
   "metadata": {},
   "outputs": [
    {
     "name": "stdout",
     "output_type": "stream",
     "text": [
      "Cannot add a string and an int\n",
      "Very important code\n"
     ]
    }
   ],
   "source": [
    "# try except block\n",
    "try:\n",
    "    a = 1\n",
    "    a + \"a\"\n",
    "except TypeError as e:\n",
    "    # Do something to handle the exception\n",
    "    print(\"Cannot add a string and an int\")\n",
    "\n",
    "print(\"Very important code\")"
   ]
  },
  {
   "cell_type": "code",
   "execution_count": 4,
   "id": "fd0f3956",
   "metadata": {},
   "outputs": [
    {
     "name": "stdout",
     "output_type": "stream",
     "text": [
      "Index out of range\n"
     ]
    }
   ],
   "source": [
    "def f():\n",
    "    l = [1, 2, 3]\n",
    "    print(l[3])\n",
    "\n",
    "try:\n",
    "    f()\n",
    "except IndexError as e:\n",
    "    print(\"Index out of range\")"
   ]
  },
  {
   "cell_type": "code",
   "execution_count": null,
   "id": "d7e1541f",
   "metadata": {},
   "outputs": [
    {
     "name": "stdout",
     "output_type": "stream",
     "text": [
      "Error: Both arguments should be strings\n",
      "Exiting\n"
     ]
    }
   ],
   "source": [
    "# We can raise exceptions\n",
    "def add_strings(s1, s2):\n",
    "    if not (isinstance(s1, str) and isinstance(s2, str)):\n",
    "        raise TypeError(\"Both arguments should be strings\")\n",
    "    return s1 + s2\n",
    "\n",
    "try:\n",
    "    sum_str = add_strings(\"123\", 345)\n",
    "    print(\"I want this to be printed\") # this will never be printed\n",
    "except TypeError as e:\n",
    "    print(f\"Error: {e}\")\n",
    "else:\n",
    "    print(sum_str)\n",
    "finally:\n",
    "    print(\"Exiting\")"
   ]
  },
  {
   "cell_type": "code",
   "execution_count": null,
   "id": "1ae2194b",
   "metadata": {},
   "outputs": [
    {
     "name": "stdout",
     "output_type": "stream",
     "text": [
      "Error: Temperature must be a number\n"
     ]
    }
   ],
   "source": [
    "class Temperature:\n",
    "    def __init__(self, celsius):\n",
    "        if not isinstance(celsius, (int, float)):\n",
    "            raise TypeError(\"Temperature must be a number\")\n",
    "        elif celsius < -273:\n",
    "            raise ValueError(\"Temperature cannot be below absolute zero (-273)\")\n",
    "        \n",
    "        self.celsius = celsius\n",
    "\n",
    "try:\n",
    "    temp = Temperature(\"-30\")\n",
    "except ValueError as e:\n",
    "    print(e)\n",
    "except TypeError as e:\n",
    "    print(f\"Error: {e}\")\n",
    "else:\n",
    "    print(f\"{temp.celsius} C\")"
   ]
  },
  {
   "cell_type": "code",
   "execution_count": 27,
   "id": "6e244aad",
   "metadata": {},
   "outputs": [
    {
     "name": "stdout",
     "output_type": "stream",
     "text": [
      "Error: Temperature must be a number\n",
      "Error: Min cannot be greater than max\n"
     ]
    }
   ],
   "source": [
    "# Create a custom exception\n",
    "class TemperatureRangeError(ValueError):\n",
    "    pass\n",
    "\n",
    "class Temperature:\n",
    "    def __init__(self, celsius):\n",
    "        if not isinstance(celsius, (int, float)):\n",
    "            raise TypeError(\"Temperature must be a number\")\n",
    "        elif celsius < -273:\n",
    "            raise ValueError(\"Temperature cannot be below absolute zero (-273)\")\n",
    "        \n",
    "        self.celsius = celsius\n",
    "        self.min_temp = 0\n",
    "        self.max_temp = 0\n",
    "    def set_range(self, min_temp, max_temp):\n",
    "        if not isinstance(min_temp, Temperature) or not isinstance(max_temp, Temperature):\n",
    "            raise TypeError(\"Temperature must be a temperature object\")\n",
    "        elif min_temp.celsius > max_temp.celsius:\n",
    "            raise TemperatureRangeError(\"Min cannot be greater than max\")\n",
    "\n",
    "try:\n",
    "    temp = Temperature(\"-30\")\n",
    "except ValueError as e:\n",
    "    print(e)\n",
    "except TypeError as e:\n",
    "    print(f\"Error: {e}\")\n",
    "else:\n",
    "    print(f\"{temp.celsius} C\")\n",
    "\n",
    "# TODO\n",
    "# Try and catch a TemperatureRangeError by using the set_range function\n",
    "temp = Temperature(20)\n",
    "try:\n",
    "    temp.set_range(Temperature(30), Temperature(15))\n",
    "except TemperatureRangeError as e:\n",
    "    print(f\"Error: {e}\")"
   ]
  },
  {
   "cell_type": "code",
   "execution_count": null,
   "id": "89cb7137",
   "metadata": {},
   "outputs": [],
   "source": []
  }
 ],
 "metadata": {
  "kernelspec": {
   "display_name": "Python 3",
   "language": "python",
   "name": "python3"
  },
  "language_info": {
   "codemirror_mode": {
    "name": "ipython",
    "version": 3
   },
   "file_extension": ".py",
   "mimetype": "text/x-python",
   "name": "python",
   "nbconvert_exporter": "python",
   "pygments_lexer": "ipython3",
   "version": "3.9.6"
  }
 },
 "nbformat": 4,
 "nbformat_minor": 5
}
