{
 "cells": [
  {
   "cell_type": "code",
   "execution_count": null,
   "id": "b94d1c04",
   "metadata": {},
   "outputs": [
    {
     "name": "stdout",
     "output_type": "stream",
     "text": [
      "dffd6021bb2bd5b0af676290809ec3a53191dd81c7f70a4b28688a362182986f\n",
      "f16c3bb0532537acd5b2e418f2b1235b29181e35cffee7cc29d84de4a1d62e4d\n"
     ]
    }
   ],
   "source": [
    "import hashlib\n",
    "\n",
    "msg = \"Hello, World!\"\n",
    "b_msg = msg.encode()\n",
    "\n",
    "# Generate a hash value for a message\n",
    "hash_value = hashlib.sha256(b_msg)\n",
    "print(hash_value.hexdigest())\n",
    "\n",
    "msg = \"Hello, World?\"\n",
    "b_msg = msg.encode()\n",
    "\n",
    "hash_value = hashlib.sha256(b_msg)\n",
    "print(hash_value.hexdigest())"
   ]
  },
  {
   "cell_type": "code",
   "execution_count": 6,
   "id": "f32f9d68",
   "metadata": {},
   "outputs": [
    {
     "name": "stdout",
     "output_type": "stream",
     "text": [
      "35aea0584badce268f8734d6ca5170a701805e2c362494229f925de78ce09d88\n",
      "e1998506ffc17fa002c17d2e5969d0ff985b1db0dad18aa906c7bb14d03652ea\n"
     ]
    }
   ],
   "source": [
    "import hashlib\n",
    "\n",
    "# Create a file\n",
    "\n",
    "with open(\"test.txt\", 'w') as file:\n",
    "    file.write(\"Very secret data!\")\n",
    "\n",
    "def file_sha256(path):\n",
    "    # Read a file as binary\n",
    "    with open(path, 'rb') as file:\n",
    "        file_content = file.read()\n",
    "    hash_value = hashlib.sha256(file_content)\n",
    "    return hash_value.hexdigest()\n",
    "\n",
    "# Generate a hash value\n",
    "file_hash = file_sha256(\"test.txt\")\n",
    "\n",
    "print(file_hash)\n",
    "\n",
    "with open(\"test.txt\", 'a') as file:\n",
    "    file.write(\"Indeed\")\n",
    "\n",
    "new_hash = file_sha256(\"test.txt\")\n",
    "print(new_hash)"
   ]
  },
  {
   "cell_type": "code",
   "execution_count": null,
   "id": "413f1c0c",
   "metadata": {},
   "outputs": [],
   "source": []
  }
 ],
 "metadata": {
  "kernelspec": {
   "display_name": "Python 3",
   "language": "python",
   "name": "python3"
  },
  "language_info": {
   "codemirror_mode": {
    "name": "ipython",
    "version": 3
   },
   "file_extension": ".py",
   "mimetype": "text/x-python",
   "name": "python",
   "nbconvert_exporter": "python",
   "pygments_lexer": "ipython3",
   "version": "3.9.6"
  }
 },
 "nbformat": 4,
 "nbformat_minor": 5
}
